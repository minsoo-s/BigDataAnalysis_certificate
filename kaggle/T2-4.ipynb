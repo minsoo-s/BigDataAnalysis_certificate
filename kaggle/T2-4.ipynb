{
 "cells": [
  {
   "cell_type": "markdown",
   "metadata": {},
   "source": [
    "# T2-4. House Prices (Regression)\n",
    "---\n",
    "집 값 예측\n",
    "예측할 변수 ['SalePrice']\n",
    "평가: rmse, r2\n",
    "\n",
    "rmse는 낮을 수록 좋은 성능\n",
    "r2는 높을 수록 좋은 성능"
   ]
  },
  {
   "cell_type": "code",
   "execution_count": 351,
   "metadata": {},
   "outputs": [
    {
     "data": {
      "text/plain": [
       "((1168, 79), (292, 79), (1168, 2), (292, 2))"
      ]
     },
     "execution_count": 351,
     "metadata": {},
     "output_type": "execute_result"
    }
   ],
   "source": [
    "# 시험환경 세팅 (코드 변경 X)\n",
    "import pandas as pd\n",
    "import numpy as np\n",
    "from sklearn.model_selection import train_test_split\n",
    "\n",
    "def exam_data_load(df, target, id_name=\"\", null_name=\"\"):\n",
    "    if id_name == \"\":\n",
    "        df = df.reset_index().rename(columns={\"index\": \"id\"})\n",
    "        id_name = 'id'\n",
    "    else:\n",
    "        id_name = id_name\n",
    "    \n",
    "    if null_name != \"\":\n",
    "        df[df == null_name] = np.nan\n",
    "    \n",
    "    X_train, X_test = train_test_split(df, test_size=0.2, shuffle=True, random_state=2021)\n",
    "    y_train = X_train[[id_name, target]]\n",
    "    X_train = X_train.drop(columns=[id_name, target])\n",
    "    y_test = X_test[[id_name, target]]\n",
    "    X_test = X_test.drop(columns=[id_name, target])\n",
    "    return X_train, X_test, y_train, y_test \n",
    "    \n",
    "df = pd.read_csv(\"./Houseprices/train.csv\")\n",
    "X_train, X_test, y_train, y_test = exam_data_load(df, target='SalePrice', id_name='Id')\n",
    "\n",
    "X_train.shape, X_test.shape, y_train.shape, y_test.shape"
   ]
  },
  {
   "cell_type": "code",
   "execution_count": 352,
   "metadata": {},
   "outputs": [],
   "source": [
    "id=y_test['Id']"
   ]
  },
  {
   "cell_type": "markdown",
   "metadata": {},
   "source": [
    "# EDA\n",
    "---"
   ]
  },
  {
   "cell_type": "code",
   "execution_count": 353,
   "metadata": {},
   "outputs": [
    {
     "name": "stdout",
     "output_type": "stream",
     "text": [
      "<class 'pandas.core.frame.DataFrame'>\n",
      "Int64Index: 1168 entries, 81 to 1140\n",
      "Data columns (total 79 columns):\n",
      " #   Column         Non-Null Count  Dtype  \n",
      "---  ------         --------------  -----  \n",
      " 0   MSSubClass     1168 non-null   int64  \n",
      " 1   MSZoning       1168 non-null   object \n",
      " 2   LotFrontage    956 non-null    float64\n",
      " 3   LotArea        1168 non-null   int64  \n",
      " 4   Street         1168 non-null   object \n",
      " 5   Alley          70 non-null     object \n",
      " 6   LotShape       1168 non-null   object \n",
      " 7   LandContour    1168 non-null   object \n",
      " 8   Utilities      1168 non-null   object \n",
      " 9   LotConfig      1168 non-null   object \n",
      " 10  LandSlope      1168 non-null   object \n",
      " 11  Neighborhood   1168 non-null   object \n",
      " 12  Condition1     1168 non-null   object \n",
      " 13  Condition2     1168 non-null   object \n",
      " 14  BldgType       1168 non-null   object \n",
      " 15  HouseStyle     1168 non-null   object \n",
      " 16  OverallQual    1168 non-null   int64  \n",
      " 17  OverallCond    1168 non-null   int64  \n",
      " 18  YearBuilt      1168 non-null   int64  \n",
      " 19  YearRemodAdd   1168 non-null   int64  \n",
      " 20  RoofStyle      1168 non-null   object \n",
      " 21  RoofMatl       1168 non-null   object \n",
      " 22  Exterior1st    1168 non-null   object \n",
      " 23  Exterior2nd    1168 non-null   object \n",
      " 24  MasVnrType     1162 non-null   object \n",
      " 25  MasVnrArea     1162 non-null   float64\n",
      " 26  ExterQual      1168 non-null   object \n",
      " 27  ExterCond      1168 non-null   object \n",
      " 28  Foundation     1168 non-null   object \n",
      " 29  BsmtQual       1139 non-null   object \n",
      " 30  BsmtCond       1139 non-null   object \n",
      " 31  BsmtExposure   1138 non-null   object \n",
      " 32  BsmtFinType1   1139 non-null   object \n",
      " 33  BsmtFinSF1     1168 non-null   int64  \n",
      " 34  BsmtFinType2   1139 non-null   object \n",
      " 35  BsmtFinSF2     1168 non-null   int64  \n",
      " 36  BsmtUnfSF      1168 non-null   int64  \n",
      " 37  TotalBsmtSF    1168 non-null   int64  \n",
      " 38  Heating        1168 non-null   object \n",
      " 39  HeatingQC      1168 non-null   object \n",
      " 40  CentralAir     1168 non-null   object \n",
      " 41  Electrical     1167 non-null   object \n",
      " 42  1stFlrSF       1168 non-null   int64  \n",
      " 43  2ndFlrSF       1168 non-null   int64  \n",
      " 44  LowQualFinSF   1168 non-null   int64  \n",
      " 45  GrLivArea      1168 non-null   int64  \n",
      " 46  BsmtFullBath   1168 non-null   int64  \n",
      " 47  BsmtHalfBath   1168 non-null   int64  \n",
      " 48  FullBath       1168 non-null   int64  \n",
      " 49  HalfBath       1168 non-null   int64  \n",
      " 50  BedroomAbvGr   1168 non-null   int64  \n",
      " 51  KitchenAbvGr   1168 non-null   int64  \n",
      " 52  KitchenQual    1168 non-null   object \n",
      " 53  TotRmsAbvGrd   1168 non-null   int64  \n",
      " 54  Functional     1168 non-null   object \n",
      " 55  Fireplaces     1168 non-null   int64  \n",
      " 56  FireplaceQu    615 non-null    object \n",
      " 57  GarageType     1107 non-null   object \n",
      " 58  GarageYrBlt    1107 non-null   float64\n",
      " 59  GarageFinish   1107 non-null   object \n",
      " 60  GarageCars     1168 non-null   int64  \n",
      " 61  GarageArea     1168 non-null   int64  \n",
      " 62  GarageQual     1107 non-null   object \n",
      " 63  GarageCond     1107 non-null   object \n",
      " 64  PavedDrive     1168 non-null   object \n",
      " 65  WoodDeckSF     1168 non-null   int64  \n",
      " 66  OpenPorchSF    1168 non-null   int64  \n",
      " 67  EnclosedPorch  1168 non-null   int64  \n",
      " 68  3SsnPorch      1168 non-null   int64  \n",
      " 69  ScreenPorch    1168 non-null   int64  \n",
      " 70  PoolArea       1168 non-null   int64  \n",
      " 71  PoolQC         5 non-null      object \n",
      " 72  Fence          231 non-null    object \n",
      " 73  MiscFeature    44 non-null     object \n",
      " 74  MiscVal        1168 non-null   int64  \n",
      " 75  MoSold         1168 non-null   int64  \n",
      " 76  YrSold         1168 non-null   int64  \n",
      " 77  SaleType       1168 non-null   object \n",
      " 78  SaleCondition  1168 non-null   object \n",
      "dtypes: float64(3), int64(33), object(43)\n",
      "memory usage: 730.0+ KB\n"
     ]
    }
   ],
   "source": [
    "X_train.info()"
   ]
  },
  {
   "cell_type": "code",
   "execution_count": 354,
   "metadata": {},
   "outputs": [
    {
     "name": "stdout",
     "output_type": "stream",
     "text": [
      "<class 'pandas.core.frame.DataFrame'>\n",
      "Int64Index: 292 entries, 1380 to 906\n",
      "Data columns (total 79 columns):\n",
      " #   Column         Non-Null Count  Dtype  \n",
      "---  ------         --------------  -----  \n",
      " 0   MSSubClass     292 non-null    int64  \n",
      " 1   MSZoning       292 non-null    object \n",
      " 2   LotFrontage    245 non-null    float64\n",
      " 3   LotArea        292 non-null    int64  \n",
      " 4   Street         292 non-null    object \n",
      " 5   Alley          21 non-null     object \n",
      " 6   LotShape       292 non-null    object \n",
      " 7   LandContour    292 non-null    object \n",
      " 8   Utilities      292 non-null    object \n",
      " 9   LotConfig      292 non-null    object \n",
      " 10  LandSlope      292 non-null    object \n",
      " 11  Neighborhood   292 non-null    object \n",
      " 12  Condition1     292 non-null    object \n",
      " 13  Condition2     292 non-null    object \n",
      " 14  BldgType       292 non-null    object \n",
      " 15  HouseStyle     292 non-null    object \n",
      " 16  OverallQual    292 non-null    int64  \n",
      " 17  OverallCond    292 non-null    int64  \n",
      " 18  YearBuilt      292 non-null    int64  \n",
      " 19  YearRemodAdd   292 non-null    int64  \n",
      " 20  RoofStyle      292 non-null    object \n",
      " 21  RoofMatl       292 non-null    object \n",
      " 22  Exterior1st    292 non-null    object \n",
      " 23  Exterior2nd    292 non-null    object \n",
      " 24  MasVnrType     290 non-null    object \n",
      " 25  MasVnrArea     290 non-null    float64\n",
      " 26  ExterQual      292 non-null    object \n",
      " 27  ExterCond      292 non-null    object \n",
      " 28  Foundation     292 non-null    object \n",
      " 29  BsmtQual       284 non-null    object \n",
      " 30  BsmtCond       284 non-null    object \n",
      " 31  BsmtExposure   284 non-null    object \n",
      " 32  BsmtFinType1   284 non-null    object \n",
      " 33  BsmtFinSF1     292 non-null    int64  \n",
      " 34  BsmtFinType2   283 non-null    object \n",
      " 35  BsmtFinSF2     292 non-null    int64  \n",
      " 36  BsmtUnfSF      292 non-null    int64  \n",
      " 37  TotalBsmtSF    292 non-null    int64  \n",
      " 38  Heating        292 non-null    object \n",
      " 39  HeatingQC      292 non-null    object \n",
      " 40  CentralAir     292 non-null    object \n",
      " 41  Electrical     292 non-null    object \n",
      " 42  1stFlrSF       292 non-null    int64  \n",
      " 43  2ndFlrSF       292 non-null    int64  \n",
      " 44  LowQualFinSF   292 non-null    int64  \n",
      " 45  GrLivArea      292 non-null    int64  \n",
      " 46  BsmtFullBath   292 non-null    int64  \n",
      " 47  BsmtHalfBath   292 non-null    int64  \n",
      " 48  FullBath       292 non-null    int64  \n",
      " 49  HalfBath       292 non-null    int64  \n",
      " 50  BedroomAbvGr   292 non-null    int64  \n",
      " 51  KitchenAbvGr   292 non-null    int64  \n",
      " 52  KitchenQual    292 non-null    object \n",
      " 53  TotRmsAbvGrd   292 non-null    int64  \n",
      " 54  Functional     292 non-null    object \n",
      " 55  Fireplaces     292 non-null    int64  \n",
      " 56  FireplaceQu    155 non-null    object \n",
      " 57  GarageType     272 non-null    object \n",
      " 58  GarageYrBlt    272 non-null    float64\n",
      " 59  GarageFinish   272 non-null    object \n",
      " 60  GarageCars     292 non-null    int64  \n",
      " 61  GarageArea     292 non-null    int64  \n",
      " 62  GarageQual     272 non-null    object \n",
      " 63  GarageCond     272 non-null    object \n",
      " 64  PavedDrive     292 non-null    object \n",
      " 65  WoodDeckSF     292 non-null    int64  \n",
      " 66  OpenPorchSF    292 non-null    int64  \n",
      " 67  EnclosedPorch  292 non-null    int64  \n",
      " 68  3SsnPorch      292 non-null    int64  \n",
      " 69  ScreenPorch    292 non-null    int64  \n",
      " 70  PoolArea       292 non-null    int64  \n",
      " 71  PoolQC         2 non-null      object \n",
      " 72  Fence          50 non-null     object \n",
      " 73  MiscFeature    10 non-null     object \n",
      " 74  MiscVal        292 non-null    int64  \n",
      " 75  MoSold         292 non-null    int64  \n",
      " 76  YrSold         292 non-null    int64  \n",
      " 77  SaleType       292 non-null    object \n",
      " 78  SaleCondition  292 non-null    object \n",
      "dtypes: float64(3), int64(33), object(43)\n",
      "memory usage: 182.5+ KB\n"
     ]
    }
   ],
   "source": [
    "X_test.info()"
   ]
  },
  {
   "cell_type": "code",
   "execution_count": 355,
   "metadata": {},
   "outputs": [],
   "source": [
    "X_train = X_train.dropna(axis=1)\n",
    "X_test = X_test.dropna(axis=1)"
   ]
  },
  {
   "cell_type": "code",
   "execution_count": 356,
   "metadata": {},
   "outputs": [
    {
     "data": {
      "text/plain": [
       "([Index(['MSSubClass', 'MSZoning', 'LotArea', 'Street', 'LotShape',\n",
       "         'LandContour', 'Utilities', 'LotConfig', 'LandSlope', 'Neighborhood',\n",
       "         'Condition1', 'Condition2', 'BldgType', 'HouseStyle', 'OverallQual',\n",
       "         'OverallCond', 'YearBuilt', 'YearRemodAdd', 'RoofStyle', 'RoofMatl',\n",
       "         'Exterior1st', 'Exterior2nd', 'ExterQual', 'ExterCond', 'Foundation',\n",
       "         'BsmtFinSF1', 'BsmtFinSF2', 'BsmtUnfSF', 'TotalBsmtSF', 'Heating',\n",
       "         'HeatingQC', 'CentralAir', '1stFlrSF', '2ndFlrSF', 'LowQualFinSF',\n",
       "         'GrLivArea', 'BsmtFullBath', 'BsmtHalfBath', 'FullBath', 'HalfBath',\n",
       "         'BedroomAbvGr', 'KitchenAbvGr', 'KitchenQual', 'TotRmsAbvGrd',\n",
       "         'Functional', 'Fireplaces', 'GarageCars', 'GarageArea', 'PavedDrive',\n",
       "         'WoodDeckSF', 'OpenPorchSF', 'EnclosedPorch', '3SsnPorch',\n",
       "         'ScreenPorch', 'PoolArea', 'MiscVal', 'MoSold', 'YrSold', 'SaleType',\n",
       "         'SaleCondition'],\n",
       "        dtype='object')],\n",
       " [Index(['MSSubClass', 'MSZoning', 'LotArea', 'Street', 'LotShape',\n",
       "         'LandContour', 'Utilities', 'LotConfig', 'LandSlope', 'Neighborhood',\n",
       "         'Condition1', 'Condition2', 'BldgType', 'HouseStyle', 'OverallQual',\n",
       "         'OverallCond', 'YearBuilt', 'YearRemodAdd', 'RoofStyle', 'RoofMatl',\n",
       "         'Exterior1st', 'Exterior2nd', 'ExterQual', 'ExterCond', 'Foundation',\n",
       "         'BsmtFinSF1', 'BsmtFinSF2', 'BsmtUnfSF', 'TotalBsmtSF', 'Heating',\n",
       "         'HeatingQC', 'CentralAir', 'Electrical', '1stFlrSF', '2ndFlrSF',\n",
       "         'LowQualFinSF', 'GrLivArea', 'BsmtFullBath', 'BsmtHalfBath', 'FullBath',\n",
       "         'HalfBath', 'BedroomAbvGr', 'KitchenAbvGr', 'KitchenQual',\n",
       "         'TotRmsAbvGrd', 'Functional', 'Fireplaces', 'GarageCars', 'GarageArea',\n",
       "         'PavedDrive', 'WoodDeckSF', 'OpenPorchSF', 'EnclosedPorch', '3SsnPorch',\n",
       "         'ScreenPorch', 'PoolArea', 'MiscVal', 'MoSold', 'YrSold', 'SaleType',\n",
       "         'SaleCondition'],\n",
       "        dtype='object')])"
      ]
     },
     "execution_count": 356,
     "metadata": {},
     "output_type": "execute_result"
    }
   ],
   "source": [
    "[X_train.columns], [X_test.columns]"
   ]
  },
  {
   "cell_type": "code",
   "execution_count": 357,
   "metadata": {},
   "outputs": [],
   "source": [
    "# 컬럼 통일\n",
    "X_test = X_test.drop('Electrical',axis=1)"
   ]
  },
  {
   "cell_type": "code",
   "execution_count": 358,
   "metadata": {},
   "outputs": [],
   "source": [
    "y_train = y_train['SalePrice']\n",
    "y_test = y_test['SalePrice']"
   ]
  },
  {
   "cell_type": "code",
   "execution_count": 359,
   "metadata": {},
   "outputs": [],
   "source": [
    "# train = pd.concat([X_train,y_train],axis=1)\n",
    "# test = pd.concat([X_test,y_test],axis=1)"
   ]
  },
  {
   "cell_type": "code",
   "execution_count": 360,
   "metadata": {},
   "outputs": [],
   "source": [
    "# train_corr = train.corr()[:-1]\n",
    "# train10 = abs(train_corr['SalePrice']).sort_values(ascending=False)[:12]\n",
    "\n",
    "# test_corr = test.corr()[:-1]\n",
    "# test10 = abs(test_corr['SalePrice']).sort_values(ascending=False)[:12]"
   ]
  },
  {
   "cell_type": "code",
   "execution_count": 361,
   "metadata": {},
   "outputs": [
    {
     "data": {
      "text/plain": [
       "Int64Index([1380,  520, 1175,  351, 1335,  280,  977,  469, 1051,  291,\n",
       "            ...\n",
       "             954, 1102,  380, 1235, 1388, 1283, 1039,   61, 1395,  906],\n",
       "           dtype='int64', length=292)"
      ]
     },
     "execution_count": 361,
     "metadata": {},
     "output_type": "execute_result"
    }
   ],
   "source": [
    "test.index"
   ]
  },
  {
   "cell_type": "code",
   "execution_count": 362,
   "metadata": {},
   "outputs": [
    {
     "data": {
      "text/plain": [
       "Int64Index([  81, 1418, 1212,  588,  251, 1088, 1048,  106,  792,  203,\n",
       "            ...\n",
       "             152,  349,  669,  830,   44,  621, 1152,   57, 1365, 1140],\n",
       "           dtype='int64', length=1168)"
      ]
     },
     "execution_count": 362,
     "metadata": {},
     "output_type": "execute_result"
    }
   ],
   "source": [
    "train.index"
   ]
  },
  {
   "cell_type": "code",
   "execution_count": 363,
   "metadata": {},
   "outputs": [],
   "source": [
    "X_train = X_train[['OverallQual', 'GrLivArea', 'GarageCars', 'GarageArea', 'TotalBsmtSF',\n",
    "       '1stFlrSF', 'FullBath', 'TotRmsAbvGrd', 'YearBuilt', 'YearRemodAdd',\n",
    "       'Fireplaces', 'BsmtFinSF1']]"
   ]
  },
  {
   "cell_type": "code",
   "execution_count": 364,
   "metadata": {},
   "outputs": [],
   "source": [
    "X_test = X_test[['OverallQual', 'GrLivArea', 'GarageCars', 'GarageArea', 'TotalBsmtSF',\n",
    "       '1stFlrSF', 'FullBath', 'TotRmsAbvGrd', 'YearBuilt', 'YearRemodAdd',\n",
    "       'Fireplaces', 'BsmtFinSF1']]"
   ]
  },
  {
   "cell_type": "markdown",
   "metadata": {},
   "source": [
    "# 모델\n",
    "---"
   ]
  },
  {
   "cell_type": "code",
   "execution_count": 365,
   "metadata": {},
   "outputs": [],
   "source": [
    "from sklearn.ensemble import RandomForestRegressor\n",
    "from sklearn.metrics import mean_squared_error, r2_score\n"
   ]
  },
  {
   "cell_type": "code",
   "execution_count": 366,
   "metadata": {},
   "outputs": [],
   "source": [
    "model = RandomForestRegressor()\n",
    "model.fit(X_train,y_train)\n",
    "pred_y = model.predict(X_test)\n"
   ]
  },
  {
   "cell_type": "code",
   "execution_count": 367,
   "metadata": {},
   "outputs": [
    {
     "name": "stdout",
     "output_type": "stream",
     "text": [
      "RMSE: 27660.760813607485\n",
      "r2: 0.8688857144049089\n"
     ]
    }
   ],
   "source": [
    "print('RMSE:',np.sqrt(mean_squared_error(y_test,pred_y)))\n",
    "print('r2:',r2_score(y_test,pred_y))"
   ]
  },
  {
   "cell_type": "markdown",
   "metadata": {},
   "source": [
    "# 제출\n",
    "---"
   ]
  },
  {
   "cell_type": "code",
   "execution_count": 368,
   "metadata": {},
   "outputs": [
    {
     "data": {
      "text/plain": [
       "1380     58500\n",
       "520     106250\n",
       "1175    285000\n",
       "351     190000\n",
       "1335    167900\n",
       "         ...  \n",
       "1283    139000\n",
       "1039     80000\n",
       "61      101000\n",
       "1395    281213\n",
       "906     255000\n",
       "Name: SalePrice, Length: 292, dtype: int64"
      ]
     },
     "execution_count": 368,
     "metadata": {},
     "output_type": "execute_result"
    }
   ],
   "source": [
    "y_test"
   ]
  },
  {
   "cell_type": "code",
   "execution_count": 369,
   "metadata": {},
   "outputs": [],
   "source": [
    "submission = pd.DataFrame(data = {'Id':id,\n",
    "                                'income':pred_y})"
   ]
  },
  {
   "cell_type": "code",
   "execution_count": 370,
   "metadata": {},
   "outputs": [
    {
     "data": {
      "text/html": [
       "<div>\n",
       "<style scoped>\n",
       "    .dataframe tbody tr th:only-of-type {\n",
       "        vertical-align: middle;\n",
       "    }\n",
       "\n",
       "    .dataframe tbody tr th {\n",
       "        vertical-align: top;\n",
       "    }\n",
       "\n",
       "    .dataframe thead th {\n",
       "        text-align: right;\n",
       "    }\n",
       "</style>\n",
       "<table border=\"1\" class=\"dataframe\">\n",
       "  <thead>\n",
       "    <tr style=\"text-align: right;\">\n",
       "      <th></th>\n",
       "      <th>Id</th>\n",
       "      <th>income</th>\n",
       "    </tr>\n",
       "  </thead>\n",
       "  <tbody>\n",
       "    <tr>\n",
       "      <th>1380</th>\n",
       "      <td>1381</td>\n",
       "      <td>98900.58</td>\n",
       "    </tr>\n",
       "    <tr>\n",
       "      <th>520</th>\n",
       "      <td>521</td>\n",
       "      <td>97385.54</td>\n",
       "    </tr>\n",
       "    <tr>\n",
       "      <th>1175</th>\n",
       "      <td>1176</td>\n",
       "      <td>345834.59</td>\n",
       "    </tr>\n",
       "    <tr>\n",
       "      <th>351</th>\n",
       "      <td>352</td>\n",
       "      <td>207992.90</td>\n",
       "    </tr>\n",
       "    <tr>\n",
       "      <th>1335</th>\n",
       "      <td>1336</td>\n",
       "      <td>168645.14</td>\n",
       "    </tr>\n",
       "    <tr>\n",
       "      <th>...</th>\n",
       "      <td>...</td>\n",
       "      <td>...</td>\n",
       "    </tr>\n",
       "    <tr>\n",
       "      <th>1283</th>\n",
       "      <td>1284</td>\n",
       "      <td>142113.79</td>\n",
       "    </tr>\n",
       "    <tr>\n",
       "      <th>1039</th>\n",
       "      <td>1040</td>\n",
       "      <td>88866.00</td>\n",
       "    </tr>\n",
       "    <tr>\n",
       "      <th>61</th>\n",
       "      <td>62</td>\n",
       "      <td>97208.34</td>\n",
       "    </tr>\n",
       "    <tr>\n",
       "      <th>1395</th>\n",
       "      <td>1396</td>\n",
       "      <td>318059.12</td>\n",
       "    </tr>\n",
       "    <tr>\n",
       "      <th>906</th>\n",
       "      <td>907</td>\n",
       "      <td>264383.18</td>\n",
       "    </tr>\n",
       "  </tbody>\n",
       "</table>\n",
       "<p>292 rows × 2 columns</p>\n",
       "</div>"
      ],
      "text/plain": [
       "        Id     income\n",
       "1380  1381   98900.58\n",
       "520    521   97385.54\n",
       "1175  1176  345834.59\n",
       "351    352  207992.90\n",
       "1335  1336  168645.14\n",
       "...    ...        ...\n",
       "1283  1284  142113.79\n",
       "1039  1040   88866.00\n",
       "61      62   97208.34\n",
       "1395  1396  318059.12\n",
       "906    907  264383.18\n",
       "\n",
       "[292 rows x 2 columns]"
      ]
     },
     "execution_count": 370,
     "metadata": {},
     "output_type": "execute_result"
    }
   ],
   "source": [
    "submission"
   ]
  },
  {
   "cell_type": "code",
   "execution_count": 371,
   "metadata": {},
   "outputs": [],
   "source": [
    "submission.to_csv('submission_houseprices.csv',index=False)"
   ]
  },
  {
   "cell_type": "code",
   "execution_count": null,
   "metadata": {},
   "outputs": [],
   "source": []
  }
 ],
 "metadata": {
  "kernelspec": {
   "display_name": "Python 3.8.10 64-bit (microsoft store)",
   "language": "python",
   "name": "python3"
  },
  "language_info": {
   "codemirror_mode": {
    "name": "ipython",
    "version": 3
   },
   "file_extension": ".py",
   "mimetype": "text/x-python",
   "name": "python",
   "nbconvert_exporter": "python",
   "pygments_lexer": "ipython3",
   "version": "3.8.10"
  },
  "orig_nbformat": 4,
  "vscode": {
   "interpreter": {
    "hash": "cde544f8739533cebef63bf12999052a10729ddf7c121822866b350ee78941c5"
   }
  }
 },
 "nbformat": 4,
 "nbformat_minor": 2
}
