{
 "cells": [
  {
   "cell_type": "markdown",
   "id": "7dfb4f9a",
   "metadata": {},
   "source": [
    "# T1-11\n",
    "---"
   ]
  },
  {
   "cell_type": "code",
   "execution_count": 3,
   "id": "b74ba705",
   "metadata": {},
   "outputs": [
    {
     "name": "stdout",
     "output_type": "stream",
     "text": [
      "<class 'pandas.core.frame.DataFrame'>\n",
      "RangeIndex: 100 entries, 0 to 99\n",
      "Data columns (total 8 columns):\n",
      " #   Column  Non-Null Count  Dtype  \n",
      "---  ------  --------------  -----  \n",
      " 0   id      100 non-null    object \n",
      " 1   age     100 non-null    float64\n",
      " 2   city    100 non-null    object \n",
      " 3   f1      69 non-null     float64\n",
      " 4   f2      100 non-null    int64  \n",
      " 5   f3      5 non-null      object \n",
      " 6   f4      100 non-null    object \n",
      " 7   f5      100 non-null    float64\n",
      "dtypes: float64(3), int64(1), object(4)\n",
      "memory usage: 6.4+ KB\n"
     ]
    },
    {
     "data": {
      "text/plain": [
       "(     id   age city    f1  f2   f3    f4         f5\n",
       " 0  id01   2.0   서울   NaN   0  NaN  ENFJ  91.297791\n",
       " 1  id02   9.0   서울  70.0   1  NaN  ENFJ  60.339826\n",
       " 2  id03  27.0   서울  61.0   1  NaN  ISTJ  17.252986\n",
       " 3  id04  75.0   서울   NaN   2  NaN  INFP  52.667078\n",
       " 4  id05  24.0   서울  85.0   2  NaN  ISFJ  29.269869,\n",
       " None)"
      ]
     },
     "execution_count": 3,
     "metadata": {},
     "output_type": "execute_result"
    }
   ],
   "source": [
    "import pandas as pd\n",
    "import numpy as np\n",
    "df = pd.read_csv('basic1.csv')\n",
    "df.head(), df.info()"
   ]
  },
  {
   "cell_type": "code",
   "execution_count": 6,
   "id": "d6674911",
   "metadata": {},
   "outputs": [
    {
     "data": {
      "text/plain": [
       "0     0.919533\n",
       "1     0.570252\n",
       "2     0.084129\n",
       "3     0.483685\n",
       "4     0.219708\n",
       "        ...   \n",
       "95    0.483685\n",
       "96    0.655395\n",
       "97    1.000000\n",
       "98    0.988166\n",
       "99    0.265279\n",
       "Name: f5, Length: 100, dtype: float64"
      ]
     },
     "execution_count": 6,
     "metadata": {},
     "output_type": "execute_result"
    }
   ],
   "source": [
    "from sklearn.preprocessing import MinMaxScaler\n",
    "scaler = MinMaxScaler()\n",
    "df['f5'] = scaler.fit_transform(df[['f5']])\n",
    "df['f5']"
   ]
  },
  {
   "cell_type": "code",
   "execution_count": 13,
   "id": "bfe9bec0",
   "metadata": {},
   "outputs": [
    {
     "name": "stdout",
     "output_type": "stream",
     "text": [
      "1.0248740983597389\n"
     ]
    }
   ],
   "source": [
    "bottom5 = df['f5'].quantile(0.05)\n",
    "top5 = df['f5'].quantile(0.95)\n",
    "\n",
    "# bottom5 = df[df['f5']<=bottom5]['f5'].sum()\n",
    "# top5 = df[df['f5']>=top5]['f5'].sum()\n",
    "\n",
    "answer = top5 + bottom5\n",
    "print(answer)"
   ]
  },
  {
   "cell_type": "markdown",
   "id": "c18ed793",
   "metadata": {},
   "source": [
    "# t1-12\n",
    "---"
   ]
  },
  {
   "cell_type": "code",
   "execution_count": 17,
   "id": "f03f5bea",
   "metadata": {},
   "outputs": [
    {
     "data": {
      "text/html": [
       "<div>\n",
       "<style scoped>\n",
       "    .dataframe tbody tr th:only-of-type {\n",
       "        vertical-align: middle;\n",
       "    }\n",
       "\n",
       "    .dataframe tbody tr th {\n",
       "        vertical-align: top;\n",
       "    }\n",
       "\n",
       "    .dataframe thead th {\n",
       "        text-align: right;\n",
       "    }\n",
       "</style>\n",
       "<table border=\"1\" class=\"dataframe\">\n",
       "  <thead>\n",
       "    <tr style=\"text-align: right;\">\n",
       "      <th></th>\n",
       "      <th>Unnamed: 0</th>\n",
       "      <th>country</th>\n",
       "      <th>iso_code</th>\n",
       "      <th>date</th>\n",
       "      <th>total_vaccinations</th>\n",
       "      <th>people_vaccinated</th>\n",
       "      <th>people_fully_vaccinated</th>\n",
       "      <th>New_deaths</th>\n",
       "      <th>population</th>\n",
       "      <th>ratio</th>\n",
       "    </tr>\n",
       "  </thead>\n",
       "  <tbody>\n",
       "    <tr>\n",
       "      <th>0</th>\n",
       "      <td>0</td>\n",
       "      <td>Afghanistan</td>\n",
       "      <td>AFG</td>\n",
       "      <td>2021-05-11</td>\n",
       "      <td>504502.0</td>\n",
       "      <td>448878.0</td>\n",
       "      <td>55624.0</td>\n",
       "      <td>12</td>\n",
       "      <td>40295077.0</td>\n",
       "      <td>1.113977</td>\n",
       "    </tr>\n",
       "    <tr>\n",
       "      <th>1</th>\n",
       "      <td>1</td>\n",
       "      <td>Afghanistan</td>\n",
       "      <td>AFG</td>\n",
       "      <td>2021-05-20</td>\n",
       "      <td>547901.0</td>\n",
       "      <td>470341.0</td>\n",
       "      <td>77560.0</td>\n",
       "      <td>10</td>\n",
       "      <td>40295077.0</td>\n",
       "      <td>1.167242</td>\n",
       "    </tr>\n",
       "    <tr>\n",
       "      <th>2</th>\n",
       "      <td>2</td>\n",
       "      <td>Afghanistan</td>\n",
       "      <td>AFG</td>\n",
       "      <td>2021-05-24</td>\n",
       "      <td>573277.0</td>\n",
       "      <td>476367.0</td>\n",
       "      <td>96910.0</td>\n",
       "      <td>10</td>\n",
       "      <td>40295077.0</td>\n",
       "      <td>1.182197</td>\n",
       "    </tr>\n",
       "    <tr>\n",
       "      <th>3</th>\n",
       "      <td>3</td>\n",
       "      <td>Afghanistan</td>\n",
       "      <td>AFG</td>\n",
       "      <td>2021-05-26</td>\n",
       "      <td>590454.0</td>\n",
       "      <td>479372.0</td>\n",
       "      <td>111082.0</td>\n",
       "      <td>19</td>\n",
       "      <td>40295077.0</td>\n",
       "      <td>1.189654</td>\n",
       "    </tr>\n",
       "    <tr>\n",
       "      <th>4</th>\n",
       "      <td>4</td>\n",
       "      <td>Afghanistan</td>\n",
       "      <td>AFG</td>\n",
       "      <td>2021-05-27</td>\n",
       "      <td>593313.0</td>\n",
       "      <td>479574.0</td>\n",
       "      <td>113739.0</td>\n",
       "      <td>14</td>\n",
       "      <td>40295077.0</td>\n",
       "      <td>1.190155</td>\n",
       "    </tr>\n",
       "    <tr>\n",
       "      <th>...</th>\n",
       "      <td>...</td>\n",
       "      <td>...</td>\n",
       "      <td>...</td>\n",
       "      <td>...</td>\n",
       "      <td>...</td>\n",
       "      <td>...</td>\n",
       "      <td>...</td>\n",
       "      <td>...</td>\n",
       "      <td>...</td>\n",
       "      <td>...</td>\n",
       "    </tr>\n",
       "    <tr>\n",
       "      <th>26618</th>\n",
       "      <td>26618</td>\n",
       "      <td>Zimbabwe</td>\n",
       "      <td>ZWE</td>\n",
       "      <td>2021-12-22</td>\n",
       "      <td>7167610.0</td>\n",
       "      <td>4078945.0</td>\n",
       "      <td>3088665.0</td>\n",
       "      <td>14</td>\n",
       "      <td>15209563.0</td>\n",
       "      <td>26.818292</td>\n",
       "    </tr>\n",
       "    <tr>\n",
       "      <th>26619</th>\n",
       "      <td>26619</td>\n",
       "      <td>Zimbabwe</td>\n",
       "      <td>ZWE</td>\n",
       "      <td>2021-12-23</td>\n",
       "      <td>7188128.0</td>\n",
       "      <td>4089315.0</td>\n",
       "      <td>3098813.0</td>\n",
       "      <td>9</td>\n",
       "      <td>15209563.0</td>\n",
       "      <td>26.886473</td>\n",
       "    </tr>\n",
       "    <tr>\n",
       "      <th>26620</th>\n",
       "      <td>26620</td>\n",
       "      <td>Zimbabwe</td>\n",
       "      <td>ZWE</td>\n",
       "      <td>2021-12-24</td>\n",
       "      <td>7200776.0</td>\n",
       "      <td>4095685.0</td>\n",
       "      <td>3105091.0</td>\n",
       "      <td>27</td>\n",
       "      <td>15209563.0</td>\n",
       "      <td>26.928354</td>\n",
       "    </tr>\n",
       "    <tr>\n",
       "      <th>26621</th>\n",
       "      <td>26621</td>\n",
       "      <td>Zimbabwe</td>\n",
       "      <td>ZWE</td>\n",
       "      <td>2021-12-25</td>\n",
       "      <td>7209049.0</td>\n",
       "      <td>4100069.0</td>\n",
       "      <td>3108980.0</td>\n",
       "      <td>16</td>\n",
       "      <td>15209563.0</td>\n",
       "      <td>26.957178</td>\n",
       "    </tr>\n",
       "    <tr>\n",
       "      <th>26622</th>\n",
       "      <td>26622</td>\n",
       "      <td>Zimbabwe</td>\n",
       "      <td>ZWE</td>\n",
       "      <td>2021-12-26</td>\n",
       "      <td>7214640.0</td>\n",
       "      <td>4103288.0</td>\n",
       "      <td>3111352.0</td>\n",
       "      <td>14</td>\n",
       "      <td>15209563.0</td>\n",
       "      <td>26.978343</td>\n",
       "    </tr>\n",
       "  </tbody>\n",
       "</table>\n",
       "<p>26623 rows × 10 columns</p>\n",
       "</div>"
      ],
      "text/plain": [
       "       Unnamed: 0      country iso_code        date  total_vaccinations  \\\n",
       "0               0  Afghanistan      AFG  2021-05-11            504502.0   \n",
       "1               1  Afghanistan      AFG  2021-05-20            547901.0   \n",
       "2               2  Afghanistan      AFG  2021-05-24            573277.0   \n",
       "3               3  Afghanistan      AFG  2021-05-26            590454.0   \n",
       "4               4  Afghanistan      AFG  2021-05-27            593313.0   \n",
       "...           ...          ...      ...         ...                 ...   \n",
       "26618       26618     Zimbabwe      ZWE  2021-12-22           7167610.0   \n",
       "26619       26619     Zimbabwe      ZWE  2021-12-23           7188128.0   \n",
       "26620       26620     Zimbabwe      ZWE  2021-12-24           7200776.0   \n",
       "26621       26621     Zimbabwe      ZWE  2021-12-25           7209049.0   \n",
       "26622       26622     Zimbabwe      ZWE  2021-12-26           7214640.0   \n",
       "\n",
       "       people_vaccinated  people_fully_vaccinated  New_deaths  population  \\\n",
       "0               448878.0                  55624.0          12  40295077.0   \n",
       "1               470341.0                  77560.0          10  40295077.0   \n",
       "2               476367.0                  96910.0          10  40295077.0   \n",
       "3               479372.0                 111082.0          19  40295077.0   \n",
       "4               479574.0                 113739.0          14  40295077.0   \n",
       "...                  ...                      ...         ...         ...   \n",
       "26618          4078945.0                3088665.0          14  15209563.0   \n",
       "26619          4089315.0                3098813.0           9  15209563.0   \n",
       "26620          4095685.0                3105091.0          27  15209563.0   \n",
       "26621          4100069.0                3108980.0          16  15209563.0   \n",
       "26622          4103288.0                3111352.0          14  15209563.0   \n",
       "\n",
       "           ratio  \n",
       "0       1.113977  \n",
       "1       1.167242  \n",
       "2       1.182197  \n",
       "3       1.189654  \n",
       "4       1.190155  \n",
       "...          ...  \n",
       "26618  26.818292  \n",
       "26619  26.886473  \n",
       "26620  26.928354  \n",
       "26621  26.957178  \n",
       "26622  26.978343  \n",
       "\n",
       "[26623 rows x 10 columns]"
      ]
     },
     "execution_count": 17,
     "metadata": {},
     "output_type": "execute_result"
    }
   ],
   "source": [
    "import pandas as pd\n",
    "df =pd.read_csv('./covid-vaccination-vs-death_ratio.csv')\n",
    "df"
   ]
  },
  {
   "cell_type": "code",
   "execution_count": 19,
   "id": "cb04275e",
   "metadata": {},
   "outputs": [
    {
     "name": "stdout",
     "output_type": "stream",
     "text": [
      "country\n",
      "Gibraltar               122.149682\n",
      "Malta                    99.307358\n",
      "United Arab Emirates     98.484635\n",
      "Cuba                     91.873382\n",
      "Brunei Darussalam        91.328883\n",
      "Name: ratio, dtype: float64\n"
     ]
    }
   ],
   "source": [
    "df2 = df.groupby('country').max() #시간에 따라 접종률이 점점 올라감\n",
    "df2 = df2.sort_values(by='ratio', ascending = False)\n",
    "print(df2['ratio'].head())\n"
   ]
  },
  {
   "cell_type": "code",
   "execution_count": 21,
   "id": "a9165d18",
   "metadata": {},
   "outputs": [
    {
     "data": {
      "text/plain": [
       "country\n",
       "United Arab Emirates    98.484635\n",
       "Cuba                    91.873382\n",
       "Brunei Darussalam       91.328883\n",
       "Portugal                90.418267\n",
       "Chile                   89.302302\n",
       "Name: ratio, dtype: float64"
      ]
     },
     "execution_count": 21,
     "metadata": {},
     "output_type": "execute_result"
    }
   ],
   "source": [
    "df2=df2[1:]\n",
    "df2['ratio'].head()"
   ]
  },
  {
   "cell_type": "code",
   "execution_count": 22,
   "id": "3b055725",
   "metadata": {},
   "outputs": [
    {
     "name": "stdout",
     "output_type": "stream",
     "text": [
      "86.9\n"
     ]
    }
   ],
   "source": [
    "top = df2['ratio'].head(10).mean()\n",
    "bottom = df2['ratio'].tail(10).mean()\n",
    "\n",
    "print(round(top - bottom,1))"
   ]
  },
  {
   "cell_type": "code",
   "execution_count": null,
   "id": "a30d1a0c",
   "metadata": {},
   "outputs": [],
   "source": []
  }
 ],
 "metadata": {
  "kernelspec": {
   "display_name": "Python 3.9.12 ('base')",
   "language": "python",
   "name": "python3"
  },
  "language_info": {
   "codemirror_mode": {
    "name": "ipython",
    "version": 3
   },
   "file_extension": ".py",
   "mimetype": "text/x-python",
   "name": "python",
   "nbconvert_exporter": "python",
   "pygments_lexer": "ipython3",
   "version": "3.9.12"
  },
  "vscode": {
   "interpreter": {
    "hash": "ad2bdc8ecc057115af97d19610ffacc2b4e99fae6737bb82f5d7fb13d2f2c186"
   }
  }
 },
 "nbformat": 4,
 "nbformat_minor": 5
}
