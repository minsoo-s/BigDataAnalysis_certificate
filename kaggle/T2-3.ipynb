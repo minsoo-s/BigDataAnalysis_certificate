{
 "cells": [
  {
   "cell_type": "markdown",
   "metadata": {},
   "source": [
    "# T2-3. Adult Census Income Tutorial\n",
    "---\n",
    "성인 인구조사 소득 예측  \n",
    "age: 나이  \n",
    "workclass: 고용 형태  \n",
    "fnlwgt: 사람의 대표성을 나타내는 가중치(final weight)  \n",
    "education: 교육 수준  \n",
    "education.num: 교육 수준 수치   \n",
    "marital.status: 결혼 상태  \n",
    "occupation: 업종   \n",
    "relationship: 가족 관계  \n",
    "race: 인종   \n",
    "sex: 성별  \n",
    "capital.gain: 양도 소득   \n",
    "capital.loss: 양도 손실   \n",
    "hours.per.week: 주당 근무 시간   \n",
    "native.country: 국적   \n",
    "income: 수익 (예측해야 하는 값)  "
   ]
  },
  {
   "cell_type": "code",
   "execution_count": 71,
   "metadata": {},
   "outputs": [
    {
     "data": {
      "text/plain": [
       "((26048, 15), (6513, 15), (26048, 2))"
      ]
     },
     "execution_count": 71,
     "metadata": {},
     "output_type": "execute_result"
    }
   ],
   "source": [
    "# 시험환경 세팅 (코드 변경 X)\n",
    "import pandas as pd\n",
    "import numpy as np\n",
    "from sklearn.model_selection import train_test_split\n",
    "\n",
    "def exam_data_load(df, target, id_name=\"\", null_name=\"\"):\n",
    "    if id_name == \"\":\n",
    "        df = df.reset_index().rename(columns={\"index\": \"id\"})\n",
    "        id_name = 'id'\n",
    "    else:\n",
    "        id_name = id_name\n",
    "    \n",
    "    if null_name != \"\":\n",
    "        df[df == null_name] = np.nan\n",
    "    \n",
    "    X_train, X_test = train_test_split(df, test_size=0.2, random_state=2021)\n",
    "    \n",
    "    y_train = X_train[[id_name, target]]\n",
    "    X_train = X_train.drop(columns=[target])\n",
    "\n",
    "    \n",
    "    y_test = X_test[[id_name, target]]\n",
    "    X_test = X_test.drop(columns=[target])\n",
    "    return X_train, X_test, y_train, y_test \n",
    "    \n",
    "df = pd.read_csv(\"./Adult/adult.csv\")\n",
    "X_train, X_test, y_train, y_test = exam_data_load(df, target='income', null_name='?')\n",
    "\n",
    "X_train.shape, X_test.shape, y_train.shape"
   ]
  },
  {
   "cell_type": "code",
   "execution_count": 72,
   "metadata": {},
   "outputs": [],
   "source": [
    "# 제출용\n",
    "id = y_test['id']"
   ]
  },
  {
   "cell_type": "markdown",
   "metadata": {},
   "source": [
    "# EDA\n",
    "---"
   ]
  },
  {
   "cell_type": "code",
   "execution_count": 73,
   "metadata": {},
   "outputs": [
    {
     "data": {
      "text/plain": [
       "(id                   0\n",
       " age                  0\n",
       " workclass         1456\n",
       " fnlwgt               0\n",
       " education            0\n",
       " education.num        0\n",
       " marital.status       0\n",
       " occupation        1463\n",
       " relationship         0\n",
       " race                 0\n",
       " sex                  0\n",
       " capital.gain         0\n",
       " capital.loss         0\n",
       " hours.per.week       0\n",
       " native.country     461\n",
       " dtype: int64,\n",
       " id                  0\n",
       " age                 0\n",
       " workclass         380\n",
       " fnlwgt              0\n",
       " education           0\n",
       " education.num       0\n",
       " marital.status      0\n",
       " occupation        380\n",
       " relationship        0\n",
       " race                0\n",
       " sex                 0\n",
       " capital.gain        0\n",
       " capital.loss        0\n",
       " hours.per.week      0\n",
       " native.country    122\n",
       " dtype: int64)"
      ]
     },
     "execution_count": 73,
     "metadata": {},
     "output_type": "execute_result"
    }
   ],
   "source": [
    "X_train.isnull().sum(),X_test.isnull().sum()"
   ]
  },
  {
   "cell_type": "markdown",
   "metadata": {},
   "source": [
    "# 전처리\n",
    "---"
   ]
  },
  {
   "cell_type": "code",
   "execution_count": 74,
   "metadata": {},
   "outputs": [],
   "source": [
    "X_train['workclass'] = X_train['workclass'].fillna(X_train['workclass'].mode)\n",
    "X_train['occupation'] = X_train['occupation'].fillna(X_train['occupation'].mode)\n",
    "X_train['native.country'] = X_train['native.country'].fillna(X_train['native.country'].mode)\n",
    "\n",
    "X_test['workclass'] = X_test['workclass'].fillna(X_test['workclass'].mode)\n",
    "X_test['occupation'] = X_test['occupation'].fillna(X_test['occupation'].mode)\n",
    "X_test['native.country'] = X_test['native.country'].fillna(X_test['native.country'].mode)"
   ]
  },
  {
   "cell_type": "code",
   "execution_count": 75,
   "metadata": {},
   "outputs": [
    {
     "data": {
      "text/plain": [
       "(id                0\n",
       " age               0\n",
       " workclass         0\n",
       " fnlwgt            0\n",
       " education         0\n",
       " education.num     0\n",
       " marital.status    0\n",
       " occupation        0\n",
       " relationship      0\n",
       " race              0\n",
       " sex               0\n",
       " capital.gain      0\n",
       " capital.loss      0\n",
       " hours.per.week    0\n",
       " native.country    0\n",
       " dtype: int64,\n",
       " id                0\n",
       " age               0\n",
       " workclass         0\n",
       " fnlwgt            0\n",
       " education         0\n",
       " education.num     0\n",
       " marital.status    0\n",
       " occupation        0\n",
       " relationship      0\n",
       " race              0\n",
       " sex               0\n",
       " capital.gain      0\n",
       " capital.loss      0\n",
       " hours.per.week    0\n",
       " native.country    0\n",
       " dtype: int64)"
      ]
     },
     "execution_count": 75,
     "metadata": {},
     "output_type": "execute_result"
    }
   ],
   "source": [
    "X_train.isnull().sum(),X_test.isnull().sum()"
   ]
  },
  {
   "cell_type": "code",
   "execution_count": 76,
   "metadata": {},
   "outputs": [],
   "source": [
    "col =['age',\t'fnlwgt',\t'education.num',\t'capital.gain',\t'capital.loss',\t'hours.per.week']\n",
    "X_train = X_train[col]\n",
    "X_test = X_test[col]"
   ]
  },
  {
   "cell_type": "code",
   "execution_count": 77,
   "metadata": {},
   "outputs": [],
   "source": [
    "y_train = y_train['income']\n",
    "y_test = y_test['income']"
   ]
  },
  {
   "cell_type": "code",
   "execution_count": 79,
   "metadata": {},
   "outputs": [
    {
     "data": {
      "text/plain": [
       "21851     >50K\n",
       "7632     <=50K\n",
       "27878    <=50K\n",
       "14121    <=50K\n",
       "32345    <=50K\n",
       "         ...  \n",
       "2669      >50K\n",
       "17536    <=50K\n",
       "6201     <=50K\n",
       "27989    <=50K\n",
       "25716    <=50K\n",
       "Name: income, Length: 26048, dtype: object"
      ]
     },
     "execution_count": 79,
     "metadata": {},
     "output_type": "execute_result"
    }
   ],
   "source": [
    "y_train"
   ]
  },
  {
   "cell_type": "code",
   "execution_count": 80,
   "metadata": {},
   "outputs": [
    {
     "data": {
      "text/plain": [
       "0.810379241516966"
      ]
     },
     "execution_count": 80,
     "metadata": {},
     "output_type": "execute_result"
    }
   ],
   "source": [
    "from sklearn.ensemble import RandomForestClassifier\n",
    "model=RandomForestClassifier()\n",
    "model.fit(X_train,y_train)\n",
    "model.score(X_test,y_test)"
   ]
  },
  {
   "cell_type": "code",
   "execution_count": 82,
   "metadata": {},
   "outputs": [],
   "source": [
    "pred_y = model.predict(X_test)"
   ]
  },
  {
   "cell_type": "code",
   "execution_count": 83,
   "metadata": {},
   "outputs": [
    {
     "data": {
      "text/html": [
       "<div>\n",
       "<style scoped>\n",
       "    .dataframe tbody tr th:only-of-type {\n",
       "        vertical-align: middle;\n",
       "    }\n",
       "\n",
       "    .dataframe tbody tr th {\n",
       "        vertical-align: top;\n",
       "    }\n",
       "\n",
       "    .dataframe thead th {\n",
       "        text-align: right;\n",
       "    }\n",
       "</style>\n",
       "<table border=\"1\" class=\"dataframe\">\n",
       "  <thead>\n",
       "    <tr style=\"text-align: right;\">\n",
       "      <th></th>\n",
       "      <th>id</th>\n",
       "      <th>income</th>\n",
       "    </tr>\n",
       "  </thead>\n",
       "  <tbody>\n",
       "    <tr>\n",
       "      <th>20901</th>\n",
       "      <td>20901</td>\n",
       "      <td>&lt;=50K</td>\n",
       "    </tr>\n",
       "    <tr>\n",
       "      <th>14170</th>\n",
       "      <td>14170</td>\n",
       "      <td>&lt;=50K</td>\n",
       "    </tr>\n",
       "    <tr>\n",
       "      <th>1776</th>\n",
       "      <td>1776</td>\n",
       "      <td>&gt;50K</td>\n",
       "    </tr>\n",
       "    <tr>\n",
       "      <th>30428</th>\n",
       "      <td>30428</td>\n",
       "      <td>&lt;=50K</td>\n",
       "    </tr>\n",
       "    <tr>\n",
       "      <th>8602</th>\n",
       "      <td>8602</td>\n",
       "      <td>&lt;=50K</td>\n",
       "    </tr>\n",
       "    <tr>\n",
       "      <th>...</th>\n",
       "      <td>...</td>\n",
       "      <td>...</td>\n",
       "    </tr>\n",
       "    <tr>\n",
       "      <th>31222</th>\n",
       "      <td>31222</td>\n",
       "      <td>&lt;=50K</td>\n",
       "    </tr>\n",
       "    <tr>\n",
       "      <th>10861</th>\n",
       "      <td>10861</td>\n",
       "      <td>&lt;=50K</td>\n",
       "    </tr>\n",
       "    <tr>\n",
       "      <th>8929</th>\n",
       "      <td>8929</td>\n",
       "      <td>&lt;=50K</td>\n",
       "    </tr>\n",
       "    <tr>\n",
       "      <th>2066</th>\n",
       "      <td>2066</td>\n",
       "      <td>&gt;50K</td>\n",
       "    </tr>\n",
       "    <tr>\n",
       "      <th>25782</th>\n",
       "      <td>25782</td>\n",
       "      <td>&gt;50K</td>\n",
       "    </tr>\n",
       "  </tbody>\n",
       "</table>\n",
       "<p>6513 rows × 2 columns</p>\n",
       "</div>"
      ],
      "text/plain": [
       "          id income\n",
       "20901  20901  <=50K\n",
       "14170  14170  <=50K\n",
       "1776    1776   >50K\n",
       "30428  30428  <=50K\n",
       "8602    8602  <=50K\n",
       "...      ...    ...\n",
       "31222  31222  <=50K\n",
       "10861  10861  <=50K\n",
       "8929    8929  <=50K\n",
       "2066    2066   >50K\n",
       "25782  25782   >50K\n",
       "\n",
       "[6513 rows x 2 columns]"
      ]
     },
     "execution_count": 83,
     "metadata": {},
     "output_type": "execute_result"
    }
   ],
   "source": [
    "# 제출\n",
    "submission = pd.DataFrame(data = {'id':id,'income':pred_y})\n",
    "submission"
   ]
  },
  {
   "cell_type": "code",
   "execution_count": 84,
   "metadata": {},
   "outputs": [],
   "source": [
    "submission.to_csv('submission_income.csv',index=False)"
   ]
  },
  {
   "cell_type": "code",
   "execution_count": null,
   "metadata": {},
   "outputs": [],
   "source": []
  }
 ],
 "metadata": {
  "kernelspec": {
   "display_name": "Python 3.8.10 64-bit (microsoft store)",
   "language": "python",
   "name": "python3"
  },
  "language_info": {
   "codemirror_mode": {
    "name": "ipython",
    "version": 3
   },
   "file_extension": ".py",
   "mimetype": "text/x-python",
   "name": "python",
   "nbconvert_exporter": "python",
   "pygments_lexer": "ipython3",
   "version": "3.8.10"
  },
  "orig_nbformat": 4,
  "vscode": {
   "interpreter": {
    "hash": "cde544f8739533cebef63bf12999052a10729ddf7c121822866b350ee78941c5"
   }
  }
 },
 "nbformat": 4,
 "nbformat_minor": 2
}
