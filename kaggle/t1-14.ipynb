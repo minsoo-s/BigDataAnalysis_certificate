{
 "cells": [
  {
   "cell_type": "markdown",
   "metadata": {},
   "source": [
    "# T1-14\n",
    "---\n",
    "city와 f4를 기준으로 f5의 평균값을 구한 다음, f5를 기준으로 상위 7개 값을 모두 더해 출력하시오 (소수점 둘째자리까지 출력)"
   ]
  },
  {
   "cell_type": "code",
   "execution_count": 14,
   "metadata": {},
   "outputs": [
    {
     "data": {
      "text/html": [
       "<div>\n",
       "<style scoped>\n",
       "    .dataframe tbody tr th:only-of-type {\n",
       "        vertical-align: middle;\n",
       "    }\n",
       "\n",
       "    .dataframe tbody tr th {\n",
       "        vertical-align: top;\n",
       "    }\n",
       "\n",
       "    .dataframe thead th {\n",
       "        text-align: right;\n",
       "    }\n",
       "</style>\n",
       "<table border=\"1\" class=\"dataframe\">\n",
       "  <thead>\n",
       "    <tr style=\"text-align: right;\">\n",
       "      <th></th>\n",
       "      <th>id</th>\n",
       "      <th>age</th>\n",
       "      <th>city</th>\n",
       "      <th>f1</th>\n",
       "      <th>f2</th>\n",
       "      <th>f3</th>\n",
       "      <th>f4</th>\n",
       "      <th>f5</th>\n",
       "    </tr>\n",
       "  </thead>\n",
       "  <tbody>\n",
       "    <tr>\n",
       "      <th>0</th>\n",
       "      <td>id01</td>\n",
       "      <td>2.0</td>\n",
       "      <td>서울</td>\n",
       "      <td>NaN</td>\n",
       "      <td>0</td>\n",
       "      <td>NaN</td>\n",
       "      <td>ENFJ</td>\n",
       "      <td>91.297791</td>\n",
       "    </tr>\n",
       "    <tr>\n",
       "      <th>1</th>\n",
       "      <td>id02</td>\n",
       "      <td>9.0</td>\n",
       "      <td>서울</td>\n",
       "      <td>70.0</td>\n",
       "      <td>1</td>\n",
       "      <td>NaN</td>\n",
       "      <td>ENFJ</td>\n",
       "      <td>60.339826</td>\n",
       "    </tr>\n",
       "    <tr>\n",
       "      <th>2</th>\n",
       "      <td>id03</td>\n",
       "      <td>27.0</td>\n",
       "      <td>서울</td>\n",
       "      <td>61.0</td>\n",
       "      <td>1</td>\n",
       "      <td>NaN</td>\n",
       "      <td>ISTJ</td>\n",
       "      <td>17.252986</td>\n",
       "    </tr>\n",
       "    <tr>\n",
       "      <th>3</th>\n",
       "      <td>id04</td>\n",
       "      <td>75.0</td>\n",
       "      <td>서울</td>\n",
       "      <td>NaN</td>\n",
       "      <td>2</td>\n",
       "      <td>NaN</td>\n",
       "      <td>INFP</td>\n",
       "      <td>52.667078</td>\n",
       "    </tr>\n",
       "    <tr>\n",
       "      <th>4</th>\n",
       "      <td>id05</td>\n",
       "      <td>24.0</td>\n",
       "      <td>서울</td>\n",
       "      <td>85.0</td>\n",
       "      <td>2</td>\n",
       "      <td>NaN</td>\n",
       "      <td>ISFJ</td>\n",
       "      <td>29.269869</td>\n",
       "    </tr>\n",
       "  </tbody>\n",
       "</table>\n",
       "</div>"
      ],
      "text/plain": [
       "     id   age city    f1  f2   f3    f4         f5\n",
       "0  id01   2.0   서울   NaN   0  NaN  ENFJ  91.297791\n",
       "1  id02   9.0   서울  70.0   1  NaN  ENFJ  60.339826\n",
       "2  id03  27.0   서울  61.0   1  NaN  ISTJ  17.252986\n",
       "3  id04  75.0   서울   NaN   2  NaN  INFP  52.667078\n",
       "4  id05  24.0   서울  85.0   2  NaN  ISFJ  29.269869"
      ]
     },
     "execution_count": 14,
     "metadata": {},
     "output_type": "execute_result"
    }
   ],
   "source": [
    "import pandas as pd\n",
    "\n",
    "df = pd.read_csv(\"./basic1.csv\")\n",
    "df.head()"
   ]
  },
  {
   "cell_type": "code",
   "execution_count": 15,
   "metadata": {},
   "outputs": [],
   "source": [
    "# 그룹 city,f4 -> f5 평균\n",
    "# f5기준 상위 7값 -> 총합\n",
    "# 소수점 2자리"
   ]
  },
  {
   "cell_type": "code",
   "execution_count": 16,
   "metadata": {},
   "outputs": [
    {
     "data": {
      "text/plain": [
       "city  f4  \n",
       "경기    ENTJ    51.693799\n",
       "      ENTP    54.704075\n",
       "      ESFJ    97.381034\n",
       "      ESFP    53.187491\n",
       "      ESTJ    79.487043\n",
       "      ESTP    34.022130\n",
       "      INFJ    80.138280\n",
       "      INFP    90.531801\n",
       "      INTJ    80.388795\n",
       "      INTP    55.887974\n",
       "      ISFJ    64.468233\n",
       "      ISFP    69.108148\n",
       "      ISTP    48.431184\n",
       "대구    ENFJ    39.964658\n",
       "      ENFP    32.574085\n",
       "      ENTP    13.049921\n",
       "      ESFJ    20.129444\n",
       "      ESTJ    77.323257\n",
       "      ESTP    28.915814\n",
       "      INTP    26.698797\n",
       "      ISFJ    59.883434\n",
       "      ISTJ    83.685380\n",
       "      ISTP    29.269869\n",
       "부산    ENFJ    17.252986\n",
       "      ENFP    68.176229\n",
       "      ENTP    74.012327\n",
       "      ESFJ    73.586397\n",
       "      ESTJ    25.280992\n",
       "      ESTP    62.730150\n",
       "      INFJ    53.447698\n",
       "      INFP    48.431184\n",
       "      INTP    13.049921\n",
       "      ISFJ    13.049921\n",
       "      ISFP    29.269869\n",
       "      ISTP    69.730313\n",
       "서울    ENFJ    75.818808\n",
       "      ENFP    98.429899\n",
       "      ENTJ    67.886373\n",
       "      ENTP     9.796378\n",
       "      ESFJ    50.469183\n",
       "      ESFP    16.283854\n",
       "      ESTP    91.297791\n",
       "      INFJ    83.685380\n",
       "      INFP    52.667078\n",
       "      INTJ    91.297791\n",
       "      INTP    20.129444\n",
       "      ISFJ    39.734842\n",
       "      ISFP    91.057640\n",
       "      ISTJ    17.252986\n",
       "      ISTP    67.886373\n",
       "Name: f5, dtype: float64"
      ]
     },
     "execution_count": 16,
     "metadata": {},
     "output_type": "execute_result"
    }
   ],
   "source": [
    "df = df.groupby(['city','f4'])['f5'].mean()\n",
    "df"
   ]
  },
  {
   "cell_type": "code",
   "execution_count": 17,
   "metadata": {},
   "outputs": [
    {
     "name": "stdout",
     "output_type": "stream",
     "text": [
      "643.6813362975\n"
     ]
    }
   ],
   "source": [
    "answer = df.sort_values(ascending=False)[:7].sum()\n",
    "print(answer)"
   ]
  },
  {
   "cell_type": "code",
   "execution_count": null,
   "metadata": {},
   "outputs": [],
   "source": []
  },
  {
   "cell_type": "code",
   "execution_count": null,
   "metadata": {},
   "outputs": [],
   "source": []
  }
 ],
 "metadata": {
  "kernelspec": {
   "display_name": "Python 3.8.13 ('EV_PY38_YOLOv5')",
   "language": "python",
   "name": "python3"
  },
  "language_info": {
   "codemirror_mode": {
    "name": "ipython",
    "version": 3
   },
   "file_extension": ".py",
   "mimetype": "text/x-python",
   "name": "python",
   "nbconvert_exporter": "python",
   "pygments_lexer": "ipython3",
   "version": "3.8.13"
  },
  "orig_nbformat": 4,
  "vscode": {
   "interpreter": {
    "hash": "bc6472e1bd2b63c7ab4bb27b41d9492121ae2cc6eae589bc296637b602f4a6f4"
   }
  }
 },
 "nbformat": 4,
 "nbformat_minor": 2
}
