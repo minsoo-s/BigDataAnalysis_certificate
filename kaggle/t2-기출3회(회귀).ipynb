{
 "cells": [
  {
   "cell_type": "markdown",
   "metadata": {},
   "source": [
    "# 대학원 입학 예측(회귀) / 리더보드 제출 아님\n",
    "---\n",
    "- 예측할 값(target): \"Chance of Admit \"\n",
    "- 평가: r2\n",
    "- data(3개): t2-2-X_train, t2-2-y_train, t2-2-X_test\n",
    "- 제출 형식(Serial No.-> id, 예측 값 -> target)  \n",
    "id,target  \n",
    "28,0.741696  \n",
    "76,0.779616  \n",
    "151,0.897247  "
   ]
  },
  {
   "cell_type": "code",
   "execution_count": 68,
   "metadata": {},
   "outputs": [],
   "source": [
    "import pandas as pd\n",
    "import numpy as np\n",
    "# t2-2-Xtrain, t2-2-ytrain, t2-2-X_test \n",
    "X_train= pd.read_csv('./ChanceofAdmit(t2-3회)/t2-2-X_train.csv')\n",
    "y_train= pd.read_csv('./ChanceofAdmit(t2-3회)/t2-2-y_train.csv')\n",
    "test= pd.read_csv('./ChanceofAdmit(t2-3회)/t2-2-X_test.csv')\n"
   ]
  },
  {
   "cell_type": "code",
   "execution_count": 69,
   "metadata": {},
   "outputs": [],
   "source": [
    "# 제출 id, target(chance of admit)\n",
    "id = test['Serial No.']\n",
    "\n",
    "X_train = X_train.drop(['Serial No.'],axis=1)\n",
    "y_train = y_train.drop(['Serial No.'],axis=1)\n",
    "test = test.drop(['Serial No.'],axis=1)"
   ]
  },
  {
   "cell_type": "code",
   "execution_count": 70,
   "metadata": {},
   "outputs": [
    {
     "data": {
      "text/plain": [
       "GRE Score            0\n",
       "TOEFL Score          0\n",
       "University Rating    0\n",
       "SOP                  0\n",
       "LOR                  0\n",
       "CGPA                 0\n",
       "Research             0\n",
       "dtype: int64"
      ]
     },
     "execution_count": 70,
     "metadata": {},
     "output_type": "execute_result"
    }
   ],
   "source": [
    "X_train.isnull().sum()"
   ]
  },
  {
   "cell_type": "code",
   "execution_count": 71,
   "metadata": {},
   "outputs": [
    {
     "data": {
      "text/plain": [
       "GRE Score            0\n",
       "TOEFL Score          0\n",
       "University Rating    0\n",
       "SOP                  0\n",
       "LOR                  0\n",
       "CGPA                 0\n",
       "Research             0\n",
       "dtype: int64"
      ]
     },
     "execution_count": 71,
     "metadata": {},
     "output_type": "execute_result"
    }
   ],
   "source": [
    "test.isnull().sum()"
   ]
  },
  {
   "cell_type": "code",
   "execution_count": 72,
   "metadata": {},
   "outputs": [
    {
     "name": "stdout",
     "output_type": "stream",
     "text": [
      "<class 'pandas.core.frame.DataFrame'>\n",
      "RangeIndex: 320 entries, 0 to 319\n",
      "Data columns (total 7 columns):\n",
      " #   Column             Non-Null Count  Dtype  \n",
      "---  ------             --------------  -----  \n",
      " 0   GRE Score          320 non-null    int64  \n",
      " 1   TOEFL Score        320 non-null    int64  \n",
      " 2   University Rating  320 non-null    int64  \n",
      " 3   SOP                320 non-null    float64\n",
      " 4   LOR                320 non-null    float64\n",
      " 5   CGPA               320 non-null    float64\n",
      " 6   Research           320 non-null    int64  \n",
      "dtypes: float64(3), int64(4)\n",
      "memory usage: 17.6 KB\n"
     ]
    }
   ],
   "source": [
    "X_train.info()"
   ]
  },
  {
   "cell_type": "markdown",
   "metadata": {},
   "source": [
    "# 모델\n",
    "---"
   ]
  },
  {
   "cell_type": "code",
   "execution_count": 73,
   "metadata": {},
   "outputs": [],
   "source": [
    "from sklearn.model_selection import train_test_split\n",
    "X_train,X_test,y_train,y_test = train_test_split(X_train,y_train,random_state=0)"
   ]
  },
  {
   "cell_type": "code",
   "execution_count": 74,
   "metadata": {},
   "outputs": [
    {
     "name": "stderr",
     "output_type": "stream",
     "text": [
      "C:\\Users\\USER\\AppData\\Local\\Temp\\ipykernel_6552\\826866865.py:3: DataConversionWarning: A column-vector y was passed when a 1d array was expected. Please change the shape of y to (n_samples,), for example using ravel().\n",
      "  model.fit(X_train,y_train)\n"
     ]
    }
   ],
   "source": [
    "from sklearn.ensemble import RandomForestRegressor\n",
    "model = RandomForestRegressor(max_depth = 5, n_estimators=500)\n",
    "model.fit(X_train,y_train)\n",
    "pred = model.predict(X_test)"
   ]
  },
  {
   "cell_type": "code",
   "execution_count": 75,
   "metadata": {},
   "outputs": [
    {
     "name": "stdout",
     "output_type": "stream",
     "text": [
      "0.06049984375083405\n",
      "0.7776437170489712\n"
     ]
    }
   ],
   "source": [
    "from sklearn.metrics import r2_score, mean_squared_error\n",
    "\n",
    "print(np.sqrt(mean_squared_error(y_test,pred)))\n",
    "print(r2_score(y_test,pred))"
   ]
  },
  {
   "cell_type": "code",
   "execution_count": 76,
   "metadata": {},
   "outputs": [],
   "source": [
    "train = pd.concat([X_train,X_test])\n",
    "target = pd.concat([y_train,y_test])"
   ]
  },
  {
   "cell_type": "code",
   "execution_count": 77,
   "metadata": {},
   "outputs": [
    {
     "name": "stderr",
     "output_type": "stream",
     "text": [
      "C:\\Users\\USER\\AppData\\Local\\Temp\\ipykernel_6552\\4184330225.py:2: DataConversionWarning: A column-vector y was passed when a 1d array was expected. Please change the shape of y to (n_samples,), for example using ravel().\n",
      "  model_final.fit(train,target)\n"
     ]
    },
    {
     "data": {
      "text/plain": [
       "array([0.73311558, 0.72453345, 0.92123518, 0.65647204, 0.51611592,\n",
       "       0.78738958, 0.50404471, 0.47892496, 0.55732376, 0.80129882,\n",
       "       0.6660209 , 0.85360774, 0.51735227, 0.67676239, 0.47937584,\n",
       "       0.76265028, 0.92281304, 0.93900622, 0.96124767, 0.65785582,\n",
       "       0.71746454, 0.71237252, 0.74001554, 0.82623804, 0.70144147,\n",
       "       0.6663547 , 0.92239517, 0.65738967, 0.95766945, 0.67008825,\n",
       "       0.75529486, 0.51337032, 0.68127979, 0.7485376 , 0.67301551,\n",
       "       0.9405754 , 0.62710581, 0.66230445, 0.93595472, 0.70683604,\n",
       "       0.61856655, 0.75827125, 0.7051199 , 0.67803141, 0.82010333,\n",
       "       0.7050464 , 0.5470938 , 0.72470591, 0.81010009, 0.8296724 ,\n",
       "       0.54947398, 0.86249684, 0.9375011 , 0.71830979, 0.76277758,\n",
       "       0.65523251, 0.57251782, 0.5915925 , 0.80106698, 0.90171503,\n",
       "       0.82730467, 0.66226935, 0.69280935, 0.71733975, 0.6339049 ,\n",
       "       0.69119785, 0.68859164, 0.93133694, 0.70290849, 0.89655944,\n",
       "       0.62087938, 0.68560054, 0.73009488, 0.91500488, 0.91631087,\n",
       "       0.75698591, 0.93508161, 0.93499995, 0.82740701, 0.72336693])"
      ]
     },
     "execution_count": 77,
     "metadata": {},
     "output_type": "execute_result"
    }
   ],
   "source": [
    "model_final = RandomForestRegressor(max_depth = 5, n_estimators=500)\n",
    "model_final.fit(train,target)\n",
    "pred_final = model_final.predict(test)\n",
    "pred_final"
   ]
  },
  {
   "cell_type": "code",
   "execution_count": 79,
   "metadata": {},
   "outputs": [],
   "source": [
    "sub = pd.DataFrame(data ={'id':id,'target':pred_final})\n",
    "sub.to_csv('./ChanceofAdmit(t2-3회)/submission.csv',index=False)"
   ]
  },
  {
   "cell_type": "code",
   "execution_count": 80,
   "metadata": {},
   "outputs": [
    {
     "data": {
      "text/html": [
       "<div>\n",
       "<style scoped>\n",
       "    .dataframe tbody tr th:only-of-type {\n",
       "        vertical-align: middle;\n",
       "    }\n",
       "\n",
       "    .dataframe tbody tr th {\n",
       "        vertical-align: top;\n",
       "    }\n",
       "\n",
       "    .dataframe thead th {\n",
       "        text-align: right;\n",
       "    }\n",
       "</style>\n",
       "<table border=\"1\" class=\"dataframe\">\n",
       "  <thead>\n",
       "    <tr style=\"text-align: right;\">\n",
       "      <th></th>\n",
       "      <th>id</th>\n",
       "      <th>target</th>\n",
       "    </tr>\n",
       "  </thead>\n",
       "  <tbody>\n",
       "    <tr>\n",
       "      <th>0</th>\n",
       "      <td>128</td>\n",
       "      <td>0.733116</td>\n",
       "    </tr>\n",
       "    <tr>\n",
       "      <th>1</th>\n",
       "      <td>76</td>\n",
       "      <td>0.724533</td>\n",
       "    </tr>\n",
       "    <tr>\n",
       "      <th>2</th>\n",
       "      <td>151</td>\n",
       "      <td>0.921235</td>\n",
       "    </tr>\n",
       "    <tr>\n",
       "      <th>3</th>\n",
       "      <td>102</td>\n",
       "      <td>0.656472</td>\n",
       "    </tr>\n",
       "    <tr>\n",
       "      <th>4</th>\n",
       "      <td>272</td>\n",
       "      <td>0.516116</td>\n",
       "    </tr>\n",
       "    <tr>\n",
       "      <th>...</th>\n",
       "      <td>...</td>\n",
       "      <td>...</td>\n",
       "    </tr>\n",
       "    <tr>\n",
       "      <th>75</th>\n",
       "      <td>252</td>\n",
       "      <td>0.756986</td>\n",
       "    </tr>\n",
       "    <tr>\n",
       "      <th>76</th>\n",
       "      <td>362</td>\n",
       "      <td>0.935082</td>\n",
       "    </tr>\n",
       "    <tr>\n",
       "      <th>77</th>\n",
       "      <td>338</td>\n",
       "      <td>0.935000</td>\n",
       "    </tr>\n",
       "    <tr>\n",
       "      <th>78</th>\n",
       "      <td>186</td>\n",
       "      <td>0.827407</td>\n",
       "    </tr>\n",
       "    <tr>\n",
       "      <th>79</th>\n",
       "      <td>335</td>\n",
       "      <td>0.723367</td>\n",
       "    </tr>\n",
       "  </tbody>\n",
       "</table>\n",
       "<p>80 rows × 2 columns</p>\n",
       "</div>"
      ],
      "text/plain": [
       "     id    target\n",
       "0   128  0.733116\n",
       "1    76  0.724533\n",
       "2   151  0.921235\n",
       "3   102  0.656472\n",
       "4   272  0.516116\n",
       "..  ...       ...\n",
       "75  252  0.756986\n",
       "76  362  0.935082\n",
       "77  338  0.935000\n",
       "78  186  0.827407\n",
       "79  335  0.723367\n",
       "\n",
       "[80 rows x 2 columns]"
      ]
     },
     "execution_count": 80,
     "metadata": {},
     "output_type": "execute_result"
    }
   ],
   "source": [
    "sub"
   ]
  },
  {
   "cell_type": "code",
   "execution_count": null,
   "metadata": {},
   "outputs": [],
   "source": []
  }
 ],
 "metadata": {
  "kernelspec": {
   "display_name": "Python 3.8.10 64-bit (microsoft store)",
   "language": "python",
   "name": "python3"
  },
  "language_info": {
   "codemirror_mode": {
    "name": "ipython",
    "version": 3
   },
   "file_extension": ".py",
   "mimetype": "text/x-python",
   "name": "python",
   "nbconvert_exporter": "python",
   "pygments_lexer": "ipython3",
   "version": "3.8.10"
  },
  "orig_nbformat": 4,
  "vscode": {
   "interpreter": {
    "hash": "cde544f8739533cebef63bf12999052a10729ddf7c121822866b350ee78941c5"
   }
  }
 },
 "nbformat": 4,
 "nbformat_minor": 2
}
